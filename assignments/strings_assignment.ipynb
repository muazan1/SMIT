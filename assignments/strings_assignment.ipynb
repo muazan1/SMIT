{
 "cells": [
  {
   "cell_type": "code",
   "execution_count": 1,
   "id": "8ba5bf28-0cc4-4521-ab79-9922f6e11f0e",
   "metadata": {},
   "outputs": [
    {
     "name": "stdin",
     "output_type": "stream",
     "text": [
      "Please enter a string:  Muazan\n"
     ]
    },
    {
     "name": "stdout",
     "output_type": "stream",
     "text": [
      "The number of vowels in the string is: 3\n"
     ]
    }
   ],
   "source": [
    "user_input = input(\"Please enter a string: \")\n",
    "\n",
    "vowels = \"aeiouAEIOU\"\n",
    "count = 0\n",
    "\n",
    "for char in user_input:\n",
    "    if char in vowels:\n",
    "        count += 1\n",
    "\n",
    "print(f\"The number of vowels in the string is: {count}\")"
   ]
  },
  {
   "cell_type": "code",
   "execution_count": 2,
   "id": "c8bc6c6a-5141-4247-a03e-d1c1a588dcc6",
   "metadata": {},
   "outputs": [
    {
     "name": "stdin",
     "output_type": "stream",
     "text": [
      "Please enter a string:  Muazan Qureshi \n"
     ]
    },
    {
     "name": "stdout",
     "output_type": "stream",
     "text": [
      "Number of uppercase letters: 2\n",
      "Number of lowercase letters: 11\n",
      "Number of digits: 0\n",
      "Number of whitespace characters: 2\n"
     ]
    }
   ],
   "source": [
    "user_input = input(\"Please enter a string: \")\n",
    "\n",
    "uppercase_count = 0\n",
    "lowercase_count = 0\n",
    "digit_count = 0\n",
    "whitespace_count = 0\n",
    "\n",
    "for char in user_input:\n",
    "    if char.isupper():\n",
    "        uppercase_count += 1\n",
    "    elif char.islower():\n",
    "        lowercase_count += 1\n",
    "    elif char.isdigit():\n",
    "        digit_count += 1\n",
    "    elif char.isspace():\n",
    "        whitespace_count += 1\n",
    "\n",
    "print(f\"Number of uppercase letters: {uppercase_count}\")\n",
    "print(f\"Number of lowercase letters: {lowercase_count}\")\n",
    "print(f\"Number of digits: {digit_count}\")\n",
    "print(f\"Number of whitespace characters: {whitespace_count}\")"
   ]
  },
  {
   "cell_type": "code",
   "execution_count": 3,
   "id": "805112e1-dc63-454b-b7a5-f0c7b1c53acc",
   "metadata": {},
   "outputs": [
    {
     "name": "stdin",
     "output_type": "stream",
     "text": [
      "Please enter a string:  Muazan\n"
     ]
    },
    {
     "name": "stdout",
     "output_type": "stream",
     "text": [
      "The new string with first and last characters exchanged is: nuazaM\n"
     ]
    }
   ],
   "source": [
    "user_input = input(\"Please enter a string: \")\n",
    "\n",
    "if len(user_input) <= 1:\n",
    "    new_string = user_input \n",
    "else:\n",
    "    new_string = user_input[-1] + user_input[1:-1] + user_input[0]\n",
    "\n",
    "print(\"The new string with first and last characters exchanged is:\", new_string)"
   ]
  },
  {
   "cell_type": "code",
   "execution_count": 4,
   "id": "6a743b3b-80ce-43f1-892e-d8eb04f82532",
   "metadata": {},
   "outputs": [
    {
     "name": "stdin",
     "output_type": "stream",
     "text": [
      "Please enter a string:  Muazan\n"
     ]
    },
    {
     "name": "stdout",
     "output_type": "stream",
     "text": [
      "The reversed string is: nazauM\n"
     ]
    }
   ],
   "source": [
    "user_input = input(\"Please enter a string: \")\n",
    "\n",
    "reversed_string = user_input[::-1]\n",
    "\n",
    "print(\"The reversed string is:\", reversed_string)"
   ]
  },
  {
   "cell_type": "code",
   "execution_count": 5,
   "id": "29d3cbed-1731-4017-bf47-9fcb7b4ea7fb",
   "metadata": {},
   "outputs": [
    {
     "name": "stdin",
     "output_type": "stream",
     "text": [
      "Please enter a string:  Muazan\n"
     ]
    },
    {
     "name": "stdout",
     "output_type": "stream",
     "text": [
      "The new string after shifting one position to the left is: uazanM\n"
     ]
    }
   ],
   "source": [
    "user_input = input(\"Please enter a string: \")\n",
    "\n",
    "if len(user_input) == 0:\n",
    "    new_string = user_input \n",
    "else:\n",
    "   new_string = user_input[1:] + user_input[0]\n",
    "\n",
    "print(\"The new string after shifting one position to the left is:\", new_string)"
   ]
  },
  {
   "cell_type": "code",
   "execution_count": 6,
   "id": "d1ef54eb-9ed0-4d75-9d65-bc18e5f91227",
   "metadata": {},
   "outputs": [
    {
     "name": "stdin",
     "output_type": "stream",
     "text": [
      "Please enter your full name (first name, middle name, last name):  Muazan\n"
     ]
    },
    {
     "name": "stdout",
     "output_type": "stream",
     "text": [
      "Your initials are: M\n"
     ]
    }
   ],
   "source": [
    "full_name = input(\"Please enter your full name (first name, middle name, last name): \")\n",
    "name_parts = full_name.split()\n",
    "initials = [part[0].upper() for part in name_parts]\n",
    "\n",
    "initials_string = ''.join(initials)\n",
    "\n",
    "print(\"Your initials are:\", initials_string)"
   ]
  },
  {
   "cell_type": "code",
   "execution_count": 8,
   "id": "b1d23dd6-6a2e-484d-b133-b6e9452a9e25",
   "metadata": {},
   "outputs": [
    {
     "name": "stdin",
     "output_type": "stream",
     "text": [
      "Please enter a string:  ili\n"
     ]
    },
    {
     "name": "stdout",
     "output_type": "stream",
     "text": [
      "\"ili\" is a palindrome.\n"
     ]
    }
   ],
   "source": [
    "user_input = input(\"Please enter a string: \")\n",
    "\n",
    "cleaned_input = user_input.replace(\" \", \"\").lower()\n",
    "\n",
    "is_palindrome = True\n",
    "\n",
    "length = len(cleaned_input)\n",
    "for i in range(length // 2):\n",
    "    if cleaned_input[i] != cleaned_input[length - 1 - i]:\n",
    "        is_palindrome = False\n",
    "        break\n",
    "\n",
    "if is_palindrome:\n",
    "    print(f'\"{user_input}\" is a palindrome.')\n",
    "else:\n",
    "    print(f'\"{user_input}\" is not a palindrome.')"
   ]
  },
  {
   "cell_type": "code",
   "execution_count": 9,
   "id": "4a9f8a70-584e-44ea-899b-0c77559d5eb7",
   "metadata": {},
   "outputs": [
    {
     "name": "stdout",
     "output_type": "stream",
     "text": [
      "SHIFT\n",
      "HIFTS\n",
      "IFTSH\n",
      "FTSHI\n",
      "TSHIF\n",
      "SHIFT\n"
     ]
    }
   ],
   "source": [
    "original_string = \"SHIFT\"\n",
    "\n",
    "for i in range(len(original_string)):\n",
    "    shifted_string = original_string[i:] + original_string[:i]\n",
    "    print(shifted_string)\n",
    "\n",
    "print(original_string)"
   ]
  },
  {
   "cell_type": "code",
   "execution_count": 13,
   "id": "9f7fd1c8-2380-4da9-bde0-c5ac89f25575",
   "metadata": {},
   "outputs": [
    {
     "name": "stdin",
     "output_type": "stream",
     "text": [
      "Please enter a password:  Muazan\n"
     ]
    },
    {
     "name": "stdout",
     "output_type": "stream",
     "text": [
      "Password must be at least 8 characters long.\n",
      "Password must contain at least one numeric digit.\n",
      "Password is valid.\n"
     ]
    }
   ],
   "source": [
    "password = input(\"Please enter a password: \")\n",
    "if len(password) < 8:\n",
    "    print(\"Password must be at least 8 characters long.\")\n",
    "\n",
    "has_upper = False\n",
    "has_lower = False\n",
    "has_digit = False\n",
    "\n",
    "\n",
    "for char in password:\n",
    "    if char.isupper():\n",
    "        has_upper = True\n",
    "    elif char.islower():\n",
    "        has_lower = True\n",
    "    elif char.isdigit():\n",
    "        has_digit = True\n",
    "\n",
    "\n",
    "if not has_upper:\n",
    "    print(\"Password must contain at least one uppercase letter.\")\n",
    "if not has_lower:\n",
    "    print(\"Password must contain at least one lowercase letter.\")\n",
    "if not has_digit:\n",
    "    print(\"Password must contain at least one numeric digit.\")\n",
    "\n",
    "print(\"Password is valid.\")\n",
    "\n"
   ]
  }
 ],
 "metadata": {
  "kernelspec": {
   "display_name": "Python 3 (ipykernel)",
   "language": "python",
   "name": "python3"
  },
  "language_info": {
   "codemirror_mode": {
    "name": "ipython",
    "version": 3
   },
   "file_extension": ".py",
   "mimetype": "text/x-python",
   "name": "python",
   "nbconvert_exporter": "python",
   "pygments_lexer": "ipython3",
   "version": "3.12.7"
  }
 },
 "nbformat": 4,
 "nbformat_minor": 5
}
