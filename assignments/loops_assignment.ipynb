{
 "cells": [
  {
   "cell_type": "code",
   "execution_count": 1,
   "id": "d83c8c47-e6a8-4423-bd54-e588d6f99518",
   "metadata": {},
   "outputs": [
    {
     "name": "stdout",
     "output_type": "stream",
     "text": [
      "1\n",
      "2\n",
      "3\n",
      "4\n",
      "5\n",
      "6\n",
      "7\n",
      "8\n",
      "9\n",
      "10\n"
     ]
    }
   ],
   "source": [
    "for n in range(1, 11):\n",
    "    print(n)"
   ]
  },
  {
   "cell_type": "code",
   "execution_count": 2,
   "id": "6c380510-739e-44a9-8258-6ba052b282ca",
   "metadata": {},
   "outputs": [
    {
     "name": "stdout",
     "output_type": "stream",
     "text": [
      "20\n",
      "19\n",
      "18\n",
      "17\n",
      "16\n",
      "15\n",
      "14\n",
      "13\n",
      "12\n",
      "11\n",
      "10\n",
      "9\n",
      "8\n",
      "7\n",
      "6\n",
      "5\n",
      "4\n",
      "3\n",
      "2\n",
      "1\n"
     ]
    }
   ],
   "source": [
    "number = 20  \n",
    "\n",
    "while number >= 1: \n",
    "    print(number)  \n",
    "    number -= 1  "
   ]
  },
  {
   "cell_type": "code",
   "execution_count": 3,
   "id": "544535dd-f9c3-46cb-b286-911b9dfca83e",
   "metadata": {},
   "outputs": [
    {
     "name": "stdout",
     "output_type": "stream",
     "text": [
      "2\n",
      "4\n",
      "6\n",
      "8\n",
      "10\n"
     ]
    }
   ],
   "source": [
    "for number in range(1, 11):\n",
    "    if number % 2 == 0:\n",
    "        print(number)"
   ]
  },
  {
   "cell_type": "code",
   "execution_count": 4,
   "id": "b1ca8dea-aacc-4368-93f6-6a3721f54fea",
   "metadata": {},
   "outputs": [
    {
     "name": "stdin",
     "output_type": "stream",
     "text": [
      "Enter a number:  2\n"
     ]
    },
    {
     "name": "stdout",
     "output_type": "stream",
     "text": [
      "1\n",
      "2\n"
     ]
    }
   ],
   "source": [
    "n = int(input(\"Enter a number: \"))\n",
    "\n",
    "for num in range(1, n + 1):\n",
    "    print(num)"
   ]
  },
  {
   "cell_type": "code",
   "execution_count": 5,
   "id": "cd1ece3e-8405-4cd2-8463-4a67226a308b",
   "metadata": {},
   "outputs": [
    {
     "name": "stdin",
     "output_type": "stream",
     "text": [
      "Enter a number:  12\n"
     ]
    },
    {
     "name": "stdout",
     "output_type": "stream",
     "text": [
      "Odd numbers between 1 and 12:\n",
      "1\n",
      "3\n",
      "5\n",
      "7\n",
      "9\n",
      "11\n"
     ]
    }
   ],
   "source": [
    "n = int(input(\"Enter a number: \"))\n",
    "\n",
    "print(f\"Odd numbers between 1 and {n}:\")\n",
    "for num in range(1, n + 1):\n",
    "    if num % 2 != 0:\n",
    "        print(num)"
   ]
  },
  {
   "cell_type": "code",
   "execution_count": 7,
   "id": "8bf83b40-0024-4aeb-a9b5-7860b3258c33",
   "metadata": {},
   "outputs": [
    {
     "name": "stdout",
     "output_type": "stream",
     "text": [
      "HAPPY BIRTHDAY\n",
      "HAPPY BIRTHDAY\n",
      "HAPPY BIRTHDAY\n",
      "HAPPY BIRTHDAY\n",
      "HAPPY BIRTHDAY\n"
     ]
    }
   ],
   "source": [
    "n = 1\n",
    "while n < 6:\n",
    "    print('HAPPY BIRTHDAY')\n",
    "    n+=1"
   ]
  },
  {
   "cell_type": "code",
   "execution_count": 8,
   "id": "e05a9663-dbaa-4f21-9ed3-018aea5ffa12",
   "metadata": {},
   "outputs": [
    {
     "name": "stdin",
     "output_type": "stream",
     "text": [
      "Enter a number:  30\n"
     ]
    },
    {
     "name": "stdout",
     "output_type": "stream",
     "text": [
      "The first 30 terms of the series of squared natural numbers are:\n",
      "1\n",
      "4\n",
      "9\n",
      "16\n",
      "25\n",
      "36\n",
      "49\n",
      "64\n",
      "81\n",
      "100\n",
      "121\n",
      "144\n",
      "169\n",
      "196\n",
      "225\n",
      "256\n",
      "289\n",
      "324\n",
      "361\n",
      "400\n",
      "441\n",
      "484\n",
      "529\n",
      "576\n",
      "625\n",
      "676\n",
      "729\n",
      "784\n",
      "841\n",
      "900\n"
     ]
    }
   ],
   "source": [
    "n = int(input(\"Enter a number: \"))\n",
    "\n",
    "print(f\"The first {n} terms of the series of squared natural numbers are:\")\n",
    "for i in range(1, n + 1):\n",
    "    square = i ** 2 \n",
    "    print(square)  "
   ]
  },
  {
   "cell_type": "code",
   "execution_count": 9,
   "id": "703a9d55-03d7-4e41-b759-1db16ea2d9b6",
   "metadata": {},
   "outputs": [
    {
     "name": "stdin",
     "output_type": "stream",
     "text": [
      "Enter a number:  20\n"
     ]
    },
    {
     "name": "stdout",
     "output_type": "stream",
     "text": [
      "Multiplication table for 20:\n",
      "20 x 1 = 20\n",
      "20 x 2 = 40\n",
      "20 x 3 = 60\n",
      "20 x 4 = 80\n",
      "20 x 5 = 100\n",
      "20 x 6 = 120\n",
      "20 x 7 = 140\n",
      "20 x 8 = 160\n",
      "20 x 9 = 180\n",
      "20 x 10 = 200\n"
     ]
    }
   ],
   "source": [
    "number = int(input(\"Enter a number: \"))\n",
    "\n",
    "\n",
    "print(f\"Multiplication table for {number}:\")\n",
    "for i in range(1, 11): \n",
    "    result = number * i \n",
    "    print(f\"{number} x {i} = {result}\") "
   ]
  },
  {
   "cell_type": "code",
   "execution_count": 11,
   "id": "5a056ce4-6100-4e52-92b5-2c159197646c",
   "metadata": {},
   "outputs": [
    {
     "name": "stdout",
     "output_type": "stream",
     "text": [
      "The first 8 terms of the arithmetic progression are:\n",
      "3 7 11 15 19 23 27 31 "
     ]
    }
   ],
   "source": [
    "first_term = 3\n",
    "common_difference = 4\n",
    "number_of_terms = 8\n",
    "\n",
    "print(\"The first 8 terms of the arithmetic progression are:\")\n",
    "for i in range(number_of_terms):\n",
    "    term = first_term + i * common_difference  \n",
    "    print(term, end=' ')\n"
   ]
  },
  {
   "cell_type": "code",
   "execution_count": 12,
   "id": "3888b0f3-496c-4186-95e9-e522a0b13c97",
   "metadata": {},
   "outputs": [
    {
     "name": "stdout",
     "output_type": "stream",
     "text": [
      "The first 6 terms of the geometric sequence are:\n",
      "2 6 18 54 162 486 "
     ]
    }
   ],
   "source": [
    "first_term = 2\n",
    "common_ratio = 3\n",
    "number_of_terms = 6\n",
    "\n",
    "print(\"The first 6 terms of the geometric sequence are:\")\n",
    "for i in range(number_of_terms):\n",
    "    term = first_term * (common_ratio ** i)\n",
    "    print(term, end=' ') \n"
   ]
  },
  {
   "cell_type": "code",
   "execution_count": 13,
   "id": "9a13324f-afaa-4fa9-b2f5-366d9c3d4ace",
   "metadata": {},
   "outputs": [
    {
     "name": "stdin",
     "output_type": "stream",
     "text": [
      "Enter a positive integer:  12\n"
     ]
    },
    {
     "name": "stdout",
     "output_type": "stream",
     "text": [
      "The sum of all integers from 1 to 12 is: 78\n"
     ]
    }
   ],
   "source": [
    "n = int(input(\"Enter a positive integer: \"))\n",
    "\n",
    "if n <= 0:\n",
    "    print(\"Please enter a positive integer.\")\n",
    "else:\n",
    "    total_sum = 0 \n",
    "    for i in range(1, n + 1):\n",
    "        total_sum += i \n",
    "        \n",
    "    print(f\"The sum of all integers from 1 to {n} is: {total_sum}\")"
   ]
  },
  {
   "cell_type": "code",
   "execution_count": 1,
   "id": "d27ae70a-259a-4449-a927-e6a5134a4283",
   "metadata": {},
   "outputs": [
    {
     "name": "stdin",
     "output_type": "stream",
     "text": [
      "Enter a positive integer:  123456\n"
     ]
    },
    {
     "name": "stdout",
     "output_type": "stream",
     "text": [
      "The sum of reciprocals from 1 to 123456 is: 12.30\n"
     ]
    }
   ],
   "source": [
    "n = int(input(\"Enter a positive integer: \"))\n",
    "\n",
    "if n <= 0:\n",
    "    print(\"Please enter a positive integer.\")\n",
    "else:\n",
    "    total_sum = 0.0  \n",
    "\n",
    "    for i in range(1, n + 1):\n",
    "        total_sum += 1 / i \n",
    "\n",
    "    print(f\"The sum of reciprocals from 1 to {n} is: {total_sum:.2f}\")"
   ]
  },
  {
   "cell_type": "code",
   "execution_count": 16,
   "id": "aefcb475-722b-4fdb-bf3f-90ea4ef77bb1",
   "metadata": {},
   "outputs": [
    {
     "name": "stdin",
     "output_type": "stream",
     "text": [
      "Enter a number:  13\n",
      "Enter a number:  36\n",
      "Enter a number:  366\n",
      "Enter a number:  3200\n",
      "Enter a number:  335550\n"
     ]
    },
    {
     "name": "stdout",
     "output_type": "stream",
     "text": [
      "The final running total is: 339165.0\n"
     ]
    }
   ],
   "source": [
    "total = 0\n",
    "\n",
    "for i in range(5):\n",
    "    number = float(input(\"Enter a number: \"))\n",
    "    total += number\n",
    "\n",
    "print(f\"The final running total is: {total}\")"
   ]
  },
  {
   "cell_type": "code",
   "execution_count": null,
   "id": "84d459ee-e4b6-4d3f-bd27-b4eddac66370",
   "metadata": {},
   "outputs": [],
   "source": []
  }
 ],
 "metadata": {
  "kernelspec": {
   "display_name": "Python 3 (ipykernel)",
   "language": "python",
   "name": "python3"
  },
  "language_info": {
   "codemirror_mode": {
    "name": "ipython",
    "version": 3
   },
   "file_extension": ".py",
   "mimetype": "text/x-python",
   "name": "python",
   "nbconvert_exporter": "python",
   "pygments_lexer": "ipython3",
   "version": "3.12.7"
  }
 },
 "nbformat": 4,
 "nbformat_minor": 5
}
