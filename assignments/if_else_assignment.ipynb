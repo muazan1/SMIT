{
 "cells": [
  {
   "cell_type": "markdown",
   "id": "4fe242e9-d90d-42c5-96e0-45d90f211a6c",
   "metadata": {},
   "source": [
    "# Discounts and Pricing"
   ]
  },
  {
   "cell_type": "code",
   "execution_count": 33,
   "id": "b69d2948-07c5-4005-9d45-5500f5048a0b",
   "metadata": {},
   "outputs": [
    {
     "name": "stdin",
     "output_type": "stream",
     "text": [
      "Enter the total purchase amount: $ 3200\n"
     ]
    },
    {
     "name": "stdout",
     "output_type": "stream",
     "text": [
      "Total Purchase: $3200.00\n",
      "Discount Applied: $320.00\n",
      "Final Price after Discount: $2880.00\n"
     ]
    }
   ],
   "source": [
    "total_purchase = float(input(\"Enter the total purchase amount: $\"))\n",
    "\n",
    "if total_purchase > 100:\n",
    "    discount = total_purchase * 0.10 \n",
    "    final_price = total_purchase - discount \n",
    "    print(f\"Total Purchase: ${total_purchase:.2f}\")\n",
    "    print(f\"Discount Applied: ${discount:.2f}\")\n",
    "    print(f\"Final Price after Discount: ${final_price:.2f}\")\n",
    "else:\n",
    "    print(f\"Total Purchase: ${total_purchase:.2f}\")\n",
    "    print(\"No discount applied.\")\n",
    "    print(f\"Final Price: ${total_purchase:.2f}\")\n",
    "        "
   ]
  },
  {
   "cell_type": "code",
   "execution_count": 3,
   "id": "b20fe6f2-0356-4a33-922a-7afb29423028",
   "metadata": {},
   "outputs": [
    {
     "name": "stdin",
     "output_type": "stream",
     "text": [
      "Enter the number of items purchased:  12\n",
      "Enter the price per item: $ 2300\n"
     ]
    },
    {
     "name": "stdout",
     "output_type": "stream",
     "text": [
      "Total Price: $27600.00\n",
      "Discount Applied: $4140.00\n",
      "Final Price after Discount: $23460.00\n"
     ]
    }
   ],
   "source": [
    "number_of_items = int(input(\"Enter the number of items purchased: \"))\n",
    "price_per_item = float(input(\"Enter the price per item: $\"))\n",
    "\n",
    "total_price = number_of_items * price_per_item\n",
    "if number_of_items > 5:\n",
    "    discount = total_price * 0.15\n",
    "    final_price = total_price - discount \n",
    "    print(f\"Total Price: ${total_price:.2f}\")\n",
    "    print(f\"Discount Applied: ${discount:.2f}\")\n",
    "    print(f\"Final Price after Discount: ${final_price:.2f}\")\n",
    "else:\n",
    "    print(f\"Total Price: ${total_price:.2f}\")\n",
    "    print(\"No discount applied.\")\n",
    "    print(f\"Final Price: ${total_price:.2f}\")"
   ]
  },
  {
   "cell_type": "code",
   "execution_count": 4,
   "id": "9fa7b6f8-cff8-49bd-8e21-2b166ce675c8",
   "metadata": {},
   "outputs": [
    {
     "name": "stdin",
     "output_type": "stream",
     "text": [
      "Enter the total purchase amount: $ 132\n",
      "Are you a member? (yes/no):  yes\n"
     ]
    },
    {
     "name": "stdout",
     "output_type": "stream",
     "text": [
      "Total Purchase: $132.00\n",
      "Discount Applied: $26.40\n",
      "Final Price after Discount: $105.60\n"
     ]
    }
   ],
   "source": [
    "total_purchase = float(input(\"Enter the total purchase amount: $\"))\n",
    "is_member = input(\"Are you a member? (yes/no): \").strip().lower()\n",
    "\n",
    "if is_member == 'yes':\n",
    "    discount_rate = 0.20\n",
    "else:\n",
    "    discount_rate = 0.05  \n",
    "\n",
    "\n",
    "discount = total_purchase * discount_rate\n",
    "final_price = total_purchase - discount\n",
    "\n",
    "print(f\"Total Purchase: ${total_purchase:.2f}\")\n",
    "print(f\"Discount Applied: ${discount:.2f}\")\n",
    "print(f\"Final Price after Discount: ${final_price:.2f}\")"
   ]
  },
  {
   "cell_type": "code",
   "execution_count": 5,
   "id": "df14d926-0479-474f-a056-5bb7a0a80be3",
   "metadata": {},
   "outputs": [
    {
     "name": "stdin",
     "output_type": "stream",
     "text": [
      "Enter the total purchase amount: $ 12300\n",
      "Is today a holiday? (yes/no):  yes\n"
     ]
    },
    {
     "name": "stdout",
     "output_type": "stream",
     "text": [
      "Total Purchase: $12300.00\n",
      "Discount Applied: $3075.00\n",
      "Final Price after Discount: $9225.00\n"
     ]
    }
   ],
   "source": [
    "total_purchase = float(input(\"Enter the total purchase amount: $\"))\n",
    "is_holiday_input = input(\"Is today a holiday? (yes/no): \").strip().lower()\n",
    "\n",
    "is_holiday = is_holiday_input == 'yes'\n",
    "\n",
    "if is_holiday:\n",
    "    discount_rate = 0.25 \n",
    "else:\n",
    "    discount_rate = 0.10 \n",
    "\n",
    "discount = total_purchase * discount_rate\n",
    "final_price = total_purchase - discount\n",
    "\n",
    "print(f\"Total Purchase: ${total_purchase:.2f}\")\n",
    "print(f\"Discount Applied: ${discount:.2f}\")\n",
    "print(f\"Final Price after Discount: ${final_price:.2f}\")"
   ]
  },
  {
   "cell_type": "code",
   "execution_count": 6,
   "id": "47695609-1d5f-4ec7-b163-060aba6a9f28",
   "metadata": {},
   "outputs": [
    {
     "name": "stdin",
     "output_type": "stream",
     "text": [
      "Enter the number of items purchased:  12\n"
     ]
    },
    {
     "name": "stdout",
     "output_type": "stream",
     "text": [
      "Number of items to pay for: 6\n"
     ]
    }
   ],
   "source": [
    "number_of_items = int(input(\"Enter the number of items purchased: \"))\n",
    "\n",
    "if number_of_items % 2 == 0:\n",
    "    items_to_pay_for = number_of_items // 2\n",
    "else:\n",
    "    items_to_pay_for = number_of_items\n",
    "\n",
    "print(f\"Number of items to pay for: {items_to_pay_for}\")"
   ]
  },
  {
   "cell_type": "markdown",
   "id": "c7d74b45-14f9-45d1-bfea-c5046f05c0a8",
   "metadata": {},
   "source": [
    "# Tax Calculations"
   ]
  },
  {
   "cell_type": "code",
   "execution_count": 7,
   "id": "4b42936d-9b7c-456e-b376-f8a737e88bb2",
   "metadata": {},
   "outputs": [
    {
     "name": "stdin",
     "output_type": "stream",
     "text": [
      "Enter the price of the item: $ 1230\n"
     ]
    },
    {
     "name": "stdout",
     "output_type": "stream",
     "text": [
      "Item Price: $1230.00\n",
      "Tax Applied: $184.50\n",
      "Total Price after Tax: $1414.50\n"
     ]
    }
   ],
   "source": [
    "item_price = float(input(\"Enter the price of the item: $\"))\n",
    "\n",
    "if item_price > 500:\n",
    "    tax_rate = 0.15\n",
    "else:\n",
    "    tax_rate = 0.08\n",
    "\n",
    "tax = item_price * tax_rate\n",
    "total_price = item_price + tax\n",
    "\n",
    "print(f\"Item Price: ${item_price:.2f}\")\n",
    "print(f\"Tax Applied: ${tax:.2f}\")\n",
    "print(f\"Total Price after Tax: ${total_price:.2f}\")"
   ]
  },
  {
   "cell_type": "code",
   "execution_count": 8,
   "id": "ffee3852-7ce6-40ca-b73c-5f014d33b667",
   "metadata": {},
   "outputs": [
    {
     "name": "stdin",
     "output_type": "stream",
     "text": [
      "Enter your annual income: $ 2000\n"
     ]
    },
    {
     "name": "stdout",
     "output_type": "stream",
     "text": [
      "Annual Income: $2000.00\n",
      "Tax Rate: 10%\n",
      "Tax Amount: $200.00\n"
     ]
    }
   ],
   "source": [
    "annual_income = float(input(\"Enter your annual income: $\"))\n",
    "\n",
    "if annual_income > 50000:\n",
    "    tax_rate = 0.20\n",
    "else:\n",
    "    tax_rate = 0.10\n",
    "\n",
    "tax_amount = annual_income * tax_rate\n",
    "print(f\"Annual Income: ${annual_income:.2f}\")\n",
    "print(f\"Tax Rate: {tax_rate * 100:.0f}%\")\n",
    "print(f\"Tax Amount: ${tax_amount:.2f}\")"
   ]
  },
  {
   "cell_type": "code",
   "execution_count": 9,
   "id": "a7a4ba53-320d-40c1-9967-7436616888c1",
   "metadata": {},
   "outputs": [
    {
     "name": "stdin",
     "output_type": "stream",
     "text": [
      "Enter your annual income: $ 1235500\n"
     ]
    },
    {
     "name": "stdout",
     "output_type": "stream",
     "text": [
      "Annual Income: $1235500.00\n",
      "Tax Bracket: High Tax\n"
     ]
    }
   ],
   "source": [
    "annual_income = float(input(\"Enter your annual income: $\"))\n",
    "\n",
    "if annual_income < 30000:\n",
    "    tax_bracket = \"Low Tax\"\n",
    "elif 30000 <= annual_income < 100000:\n",
    "    tax_bracket = \"Medium Tax\"\n",
    "else:\n",
    "    tax_bracket = \"High Tax\"\n",
    "    \n",
    "print(f\"Annual Income: ${annual_income:.2f}\")\n",
    "print(f\"Tax Bracket: {tax_bracket}\")"
   ]
  },
  {
   "cell_type": "code",
   "execution_count": 10,
   "id": "40bdfe43-51d8-4a1d-a117-3e38053e171d",
   "metadata": {},
   "outputs": [
    {
     "name": "stdin",
     "output_type": "stream",
     "text": [
      "Enter the price of the item: $ 1230\n",
      "Is the item essential? (yes/no):  no\n"
     ]
    },
    {
     "name": "stdout",
     "output_type": "stream",
     "text": [
      "Item Price: $1230.00\n",
      "VAT Applied: $147.60\n",
      "Final Price after VAT: $1377.60\n"
     ]
    }
   ],
   "source": [
    "item_price = float(input(\"Enter the price of the item: $\"))\n",
    "is_essential_input = input(\"Is the item essential? (yes/no): \").strip().lower()\n",
    "\n",
    "is_essential = is_essential_input == 'yes'\n",
    "\n",
    "if is_essential:\n",
    "    vat_rate = 0.05\n",
    "else:\n",
    "    vat_rate = 0.12 \n",
    "\n",
    "\n",
    "vat = item_price * vat_rate\n",
    "final_price = item_price + vat\n",
    "\n",
    "print(f\"Item Price: ${item_price:.2f}\")\n",
    "print(f\"VAT Applied: ${vat:.2f}\")\n",
    "print(f\"Final Price after VAT: ${final_price:.2f}\")"
   ]
  },
  {
   "cell_type": "code",
   "execution_count": 11,
   "id": "e4a03b07-9676-4060-bb50-60ad21598933",
   "metadata": {},
   "outputs": [
    {
     "name": "stdin",
     "output_type": "stream",
     "text": [
      "Enter the original price of the item: $ 123\n",
      "Is today a tax-free day? (yes/no):  no\n"
     ]
    },
    {
     "name": "stdout",
     "output_type": "stream",
     "text": [
      "Original Price: $123.00\n",
      "Tax Applied: $8.61\n",
      "Final Price: $131.61\n"
     ]
    }
   ],
   "source": [
    "original_price = float(input(\"Enter the original price of the item: $\"))\n",
    "tax_free_input = input(\"Is today a tax-free day? (yes/no): \").strip().lower()\n",
    "\n",
    "tax_free = tax_free_input == 'yes'\n",
    "\n",
    "if tax_free:\n",
    "    final_price = original_price \n",
    "else:\n",
    "    tax = original_price * 0.07 \n",
    "    final_price = original_price + tax  \n",
    "\n",
    "print(f\"Original Price: ${original_price:.2f}\")\n",
    "if not tax_free:\n",
    "    print(f\"Tax Applied: ${tax:.2f}\")\n",
    "print(f\"Final Price: ${final_price:.2f}\")"
   ]
  },
  {
   "cell_type": "markdown",
   "id": "6490e292-80e5-41cc-a422-16da52ada788",
   "metadata": {},
   "source": [
    "# Shopping and Billing"
   ]
  },
  {
   "cell_type": "code",
   "execution_count": 12,
   "id": "6a49c20c-e825-4d45-a32b-de5b777b59f8",
   "metadata": {},
   "outputs": [
    {
     "name": "stdin",
     "output_type": "stream",
     "text": [
      "Enter the total purchase amount: $ 12\n"
     ]
    },
    {
     "name": "stdout",
     "output_type": "stream",
     "text": [
      "Total Purchase Amount: $12.00\n",
      "Shipping Cost: $5.00\n",
      "Total Amount (including shipping): $17.00\n"
     ]
    }
   ],
   "source": [
    "total_purchase = float(input(\"Enter the total purchase amount: $\"))\n",
    "\n",
    "if total_purchase > 50:\n",
    "    shipping_cost = 0 \n",
    "else:\n",
    "    shipping_cost = 5 \n",
    "\n",
    "total_amount = total_purchase + shipping_cost\n",
    "\n",
    "print(f\"Total Purchase Amount: ${total_purchase:.2f}\")\n",
    "print(f\"Shipping Cost: ${shipping_cost:.2f}\")\n",
    "print(f\"Total Amount (including shipping): ${total_amount:.2f}\")"
   ]
  },
  {
   "cell_type": "code",
   "execution_count": 13,
   "id": "5428be88-1ea5-4759-a83f-829884da567f",
   "metadata": {},
   "outputs": [
    {
     "name": "stdin",
     "output_type": "stream",
     "text": [
      "Enter the total purchase amount: $ 1230\n",
      "Enter the discount code:  DISCOUNT10\n"
     ]
    },
    {
     "name": "stdout",
     "output_type": "stream",
     "text": [
      "Discount Applied: $123.00\n",
      "Total Purchase Amount: $1230.00\n",
      "Final Price: $1107.00\n"
     ]
    }
   ],
   "source": [
    "total_purchase = float(input(\"Enter the total purchase amount: $\"))\n",
    "discount_code = input(\"Enter the discount code: \").strip()\n",
    "\n",
    "if discount_code == \"DISCOUNT10\":\n",
    "    discount = total_purchase * 0.10  \n",
    "    final_price = total_purchase - discount\n",
    "    print(f\"Discount Applied: ${discount:.2f}\")\n",
    "else:\n",
    "    final_price = total_purchase \n",
    "\n",
    "print(f\"Total Purchase Amount: ${total_purchase:.2f}\")\n",
    "print(f\"Final Price: ${final_price:.2f}\")"
   ]
  },
  {
   "cell_type": "code",
   "execution_count": 15,
   "id": "07c8fdab-49e6-44f4-a67d-7a351bb0c63b",
   "metadata": {},
   "outputs": [
    {
     "name": "stdin",
     "output_type": "stream",
     "text": [
      "Enter the total purchase amount: $ 1230\n"
     ]
    },
    {
     "name": "stdout",
     "output_type": "stream",
     "text": [
      "Total Purchase Amount: $1230.00\n",
      "Discount Applied: $246.00\n",
      "Final Price after Discount: $984.00\n"
     ]
    }
   ],
   "source": [
    "total_purchase = float(input(\"Enter the total purchase amount: $\"))\n",
    "\n",
    "if total_purchase <= 50:\n",
    "    discount_rate = 0.00  \n",
    "elif total_purchase <= 100:\n",
    "    discount_rate = 0.10 \n",
    "else:\n",
    "    discount_rate = 0.20 \n",
    "\n",
    "discount = total_purchase * discount_rate\n",
    "final_price = total_purchase - discount\n",
    "\n",
    "print(f\"Total Purchase Amount: ${total_purchase:.2f}\")\n",
    "print(f\"Discount Applied: ${discount:.2f}\")\n",
    "print(f\"Final Price after Discount: ${final_price:.2f}\")"
   ]
  },
  {
   "cell_type": "code",
   "execution_count": 17,
   "id": "7ab83ff5-b745-4809-95f3-35be7ea167a8",
   "metadata": {},
   "outputs": [
    {
     "name": "stdin",
     "output_type": "stream",
     "text": [
      "Enter the total purchase amount: $ 20\n"
     ]
    },
    {
     "name": "stdout",
     "output_type": "stream",
     "text": [
      "Total Amount: $20.00\n"
     ]
    }
   ],
   "source": [
    "total_purchase = float(input(\"Enter the total purchase amount: $\"))\n",
    "if total_purchase < 20:\n",
    "    print(\"Minimum purchase of $20 is required.\")\n",
    "else:\n",
    "    print(f\"Total Amount: ${total_purchase:.2f}\")"
   ]
  },
  {
   "cell_type": "code",
   "execution_count": 18,
   "id": "892d257f-d685-4ebc-899a-da2f44736596",
   "metadata": {},
   "outputs": [
    {
     "name": "stdin",
     "output_type": "stream",
     "text": [
      "Enter the purchase amount: $ 1230\n",
      "Are you a loyal member? (yes/no):  no\n"
     ]
    },
    {
     "name": "stdout",
     "output_type": "stream",
     "text": [
      "Purchase Amount: $1230.00\n",
      "Loyalty Points Earned: 1230.00\n"
     ]
    }
   ],
   "source": [
    "purchase_amount = float(input(\"Enter the purchase amount: $\"))\n",
    "is_loyal_input = input(\"Are you a loyal member? (yes/no): \").strip().lower()\n",
    "\n",
    "is_loyal = is_loyal_input == 'yes'\n",
    "\n",
    "if is_loyal:\n",
    "    loyalty_points = purchase_amount * 2\n",
    "else:\n",
    "    loyalty_points = purchase_amount\n",
    "\n",
    "\n",
    "print(f\"Purchase Amount: ${purchase_amount:.2f}\")\n",
    "print(f\"Loyalty Points Earned: {loyalty_points:.2f}\")"
   ]
  },
  {
   "cell_type": "markdown",
   "id": "694b4d0f-df0e-42db-a7b7-7bb99a8bbf75",
   "metadata": {},
   "source": [
    "# Travel and Tickets"
   ]
  },
  {
   "cell_type": "code",
   "execution_count": 19,
   "id": "ba37e6b6-400a-4316-b0fd-0db1f1b48382",
   "metadata": {},
   "outputs": [
    {
     "name": "stdin",
     "output_type": "stream",
     "text": [
      "Enter the ticket price: $ 12500\n",
      "Enter the travel distance in miles:  12\n"
     ]
    },
    {
     "name": "stdout",
     "output_type": "stream",
     "text": [
      "Original Ticket Price: $12500.00\n",
      "Final Price: $12500.00\n"
     ]
    }
   ],
   "source": [
    "ticket_price = float(input(\"Enter the ticket price: $\"))\n",
    "travel_distance = float(input(\"Enter the travel distance in miles: \"))\n",
    "\n",
    "if travel_distance > 500:\n",
    "    discount = ticket_price * 0.20\n",
    "    final_price = ticket_price - discount \n",
    "    print(f\"Discount Applied: ${discount:.2f}\")\n",
    "else:\n",
    "    final_price = ticket_price \n",
    "\n",
    "print(f\"Original Ticket Price: ${ticket_price:.2f}\")\n",
    "print(f\"Final Price: ${final_price:.2f}\")"
   ]
  },
  {
   "cell_type": "code",
   "execution_count": 20,
   "id": "832646cc-4601-4794-99ad-11ec6d0a2126",
   "metadata": {},
   "outputs": [
    {
     "name": "stdin",
     "output_type": "stream",
     "text": [
      "Enter the ticket price: $ 200\n",
      "Enter the passenger's age:  020\n"
     ]
    },
    {
     "name": "stdout",
     "output_type": "stream",
     "text": [
      "Original Ticket Price: $200.00\n",
      "Final Price: $200.00\n"
     ]
    }
   ],
   "source": [
    "ticket_price = float(input(\"Enter the ticket price: $\"))\n",
    "passenger_age = int(input(\"Enter the passenger's age: \"))\n",
    "\n",
    "if passenger_age < 12 or passenger_age > 60:\n",
    "    discount = ticket_price * 0.15\n",
    "    final_price = ticket_price - discount\n",
    "    print(f\"Discount Applied: ${discount:.2f}\")\n",
    "else:\n",
    "    final_price = ticket_price\n",
    "\n",
    "print(f\"Original Ticket Price: ${ticket_price:.2f}\")\n",
    "print(f\"Final Price: ${final_price:.2f}\")"
   ]
  },
  {
   "cell_type": "code",
   "execution_count": 21,
   "id": "f041cb84-d8e9-49a1-99a2-0ef2cff4b326",
   "metadata": {},
   "outputs": [
    {
     "name": "stdin",
     "output_type": "stream",
     "text": [
      "Enter the ticket price: $ 15220\n",
      "Is the ticket for a weekend? (yes/no):  yes\n"
     ]
    },
    {
     "name": "stdout",
     "output_type": "stream",
     "text": [
      "Surcharge Applied: $1522.00\n",
      "Original Ticket Price: $15220.00\n",
      "Final Price: $16742.00\n"
     ]
    }
   ],
   "source": [
    "ticket_price = float(input(\"Enter the ticket price: $\"))\n",
    "is_weekend_input = input(\"Is the ticket for a weekend? (yes/no): \").strip().lower()\n",
    "\n",
    "is_weekend = is_weekend_input == 'yes'\n",
    "\n",
    "if is_weekend:\n",
    "    surcharge = ticket_price * 0.10  \n",
    "    final_price = ticket_price + surcharge \n",
    "    print(f\"Surcharge Applied: ${surcharge:.2f}\")\n",
    "else:\n",
    "    final_price = ticket_price\n",
    "\n",
    "\n",
    "print(f\"Original Ticket Price: ${ticket_price:.2f}\")\n",
    "print(f\"Final Price: ${final_price:.2f}\")"
   ]
  },
  {
   "cell_type": "code",
   "execution_count": 23,
   "id": "13f3c0a0-8aa3-42d7-bd7f-bcebcc0afd23",
   "metadata": {},
   "outputs": [
    {
     "name": "stdin",
     "output_type": "stream",
     "text": [
      "Enter the total baggage weight in kg:  60\n"
     ]
    },
    {
     "name": "stdout",
     "output_type": "stream",
     "text": [
      "Total Baggage Weight: 60.00 kg\n",
      "Extra Fee: $400.00\n",
      "Total Amount to be Paid: $400.00\n"
     ]
    }
   ],
   "source": [
    "baggage_weight = float(input(\"Enter the total baggage weight in kg: \"))\n",
    "\n",
    "if baggage_weight > 20:\n",
    "    extra_weight = baggage_weight - 20 \n",
    "    extra_fee = extra_weight * 10\n",
    "else:\n",
    "    extra_fee = 0\n",
    "\n",
    "print(f\"Total Baggage Weight: {baggage_weight:.2f} kg\")\n",
    "print(f\"Extra Fee: ${extra_fee:.2f}\")\n",
    "print(f\"Total Amount to be Paid: ${extra_fee:.2f}\")"
   ]
  },
  {
   "cell_type": "code",
   "execution_count": 24,
   "id": "03d8e039-63e6-4764-99ed-9bb1374fdf7c",
   "metadata": {},
   "outputs": [
    {
     "name": "stdin",
     "output_type": "stream",
     "text": [
      "Enter the ticket price: $ 150\n",
      "Enter the number of days in advance the ticket is booked:  20\n"
     ]
    },
    {
     "name": "stdout",
     "output_type": "stream",
     "text": [
      "Original Ticket Price: $150.00\n",
      "Final Price: $150.00\n"
     ]
    }
   ],
   "source": [
    "ticket_price = float(input(\"Enter the ticket price: $\"))\n",
    "days_in_advance = int(input(\"Enter the number of days in advance the ticket is booked: \"))\n",
    "\n",
    "if days_in_advance > 30:\n",
    "    discount = ticket_price * 0.10\n",
    "    final_price = ticket_price - discount \n",
    "    print(f\"Discount Applied: ${discount:.2f}\")\n",
    "else:\n",
    "    final_price = ticket_price\n",
    "\n",
    "print(f\"Original Ticket Price: ${ticket_price:.2f}\")\n",
    "print(f\"Final Price: ${final_price:.2f}\")"
   ]
  },
  {
   "cell_type": "markdown",
   "id": "a978f8dd-8891-446e-8711-de679b1defbe",
   "metadata": {},
   "source": [
    "# Grades and Performance"
   ]
  },
  {
   "cell_type": "code",
   "execution_count": 26,
   "id": "ec7d9172-2282-41a5-a081-25b3d5a5860f",
   "metadata": {},
   "outputs": [
    {
     "name": "stdin",
     "output_type": "stream",
     "text": [
      "Enter Marks Obtained:  12\n"
     ]
    },
    {
     "name": "stdout",
     "output_type": "stream",
     "text": [
      "Fail\n"
     ]
    }
   ],
   "source": [
    "marks = float(input(\"Enter Marks Obtained: \"))\n",
    "\n",
    "if marks >= 40:\n",
    "    print(\"Pass\")\n",
    "else:\n",
    "    print(\"Fail\")"
   ]
  },
  {
   "cell_type": "code",
   "execution_count": 30,
   "id": "b6e22cd0-e307-4f4a-93c2-a5aa9ff07858",
   "metadata": {},
   "outputs": [
    {
     "name": "stdin",
     "output_type": "stream",
     "text": [
      "Enter the student's score:  99\n"
     ]
    },
    {
     "name": "stdout",
     "output_type": "stream",
     "text": [
      "The student's grade is: A\n"
     ]
    }
   ],
   "source": [
    "score = float(input(\"Enter the student's score: \"))\n",
    "\n",
    "\n",
    "if score >= 90:\n",
    "    grade = \"A\"\n",
    "elif score >= 75:\n",
    "    grade = \"B\"\n",
    "elif score >= 50:\n",
    "    grade = \"C\"\n",
    "else:\n",
    "    grade = \"F\"\n",
    "    \n",
    "print(f\"The student's grade is: {grade}\")"
   ]
  },
  {
   "cell_type": "code",
   "execution_count": 29,
   "id": "29f45b0c-ed9a-44dd-9c73-08961273a21b",
   "metadata": {},
   "outputs": [
    {
     "name": "stdin",
     "output_type": "stream",
     "text": [
      "Enter the student's score:  123\n",
      "Has the student completed all assignments? (yes/no):  no\n"
     ]
    },
    {
     "name": "stdout",
     "output_type": "stream",
     "text": [
      "Original Score: 123.00\n",
      "Bonus Marks: 0\n",
      "Final Score: 123.00\n"
     ]
    }
   ],
   "source": [
    "score = float(input(\"Enter the student's score: \"))\n",
    "all_assignments_completed_input = input(\"Has the student completed all assignments? (yes/no): \").strip().lower()\n",
    "\n",
    "\n",
    "all_assignments_completed = all_assignments_completed_input == 'yes'\n",
    "\n",
    "if all_assignments_completed:\n",
    "    bonus_marks = 5\n",
    "    final_score = score + bonus_marks \n",
    "else:\n",
    "    bonus_marks = 0\n",
    "    final_score = score\n",
    "\n",
    "print(f\"Original Score: {score:.2f}\")\n",
    "print(f\"Bonus Marks: {bonus_marks}\")\n",
    "print(f\"Final Score: {final_score:.2f}\")"
   ]
  },
  {
   "cell_type": "code",
   "execution_count": 28,
   "id": "7c508a8d-6a6b-4f89-a0d4-ee3a192ddad7",
   "metadata": {},
   "outputs": [
    {
     "name": "stdin",
     "output_type": "stream",
     "text": [
      "Enter the student's attendance percentage:  50\n"
     ]
    },
    {
     "name": "stdout",
     "output_type": "stream",
     "text": [
      "The student is not eligible to take the exam.\n"
     ]
    }
   ],
   "source": [
    "attendance_percentage = float(input(\"Enter the student's attendance percentage: \"))\n",
    "\n",
    "if attendance_percentage >= 75:\n",
    "    print(\"The student is eligible to take the exam.\")\n",
    "else:\n",
    "    print(\"The student is not eligible to take the exam.\")"
   ]
  },
  {
   "cell_type": "code",
   "execution_count": 34,
   "id": "14db094e-8aad-47e8-a998-8c06dd25e3d4",
   "metadata": {},
   "outputs": [
    {
     "name": "stdin",
     "output_type": "stream",
     "text": [
      "Enter the student's grade (A, B, C, F):  f\n",
      "Enter the annual family income: $ 123546\n"
     ]
    },
    {
     "name": "stdout",
     "output_type": "stream",
     "text": [
      "The student is not eligible for a scholarship.\n"
     ]
    }
   ],
   "source": [
    "grade = input(\"Enter the student's grade (A, B, C, F): \").strip().upper()\n",
    "annual_income = float(input(\"Enter the annual family income: $\"))\n",
    "\n",
    "if grade == \"A\" and annual_income < 30000:\n",
    "    print(\"The student is eligible for a scholarship.\")\n",
    "else:\n",
    "    print(\"The student is not eligible for a scholarship.\")"
   ]
  }
 ],
 "metadata": {
  "kernelspec": {
   "display_name": "Python 3 (ipykernel)",
   "language": "python",
   "name": "python3"
  },
  "language_info": {
   "codemirror_mode": {
    "name": "ipython",
    "version": 3
   },
   "file_extension": ".py",
   "mimetype": "text/x-python",
   "name": "python",
   "nbconvert_exporter": "python",
   "pygments_lexer": "ipython3",
   "version": "3.12.7"
  }
 },
 "nbformat": 4,
 "nbformat_minor": 5
}
